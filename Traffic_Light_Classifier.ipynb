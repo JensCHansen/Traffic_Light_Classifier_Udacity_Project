{
 "cells": [
  {
   "cell_type": "markdown",
   "metadata": {},
   "source": [
    "# Traffic Light Classifier\n",
    "---\n",
    "\n",
    "In this project, you’ll use your knowledge of computer vision techniques to build a classifier for images of traffic lights! You'll be given a dataset of traffic light images in which one of three lights is illuminated: red, yellow, or green.\n",
    "\n",
    "In this notebook, you'll pre-process these images, extract features that will help us distinguish the different types of images, and use those features to classify the traffic light images into three classes: red, yellow, or green. The tasks will be broken down into a few sections:\n",
    "\n",
    "1. **Loading and visualizing the data**. \n",
    "      The first step in any classification task is to be familiar with your data; you'll need to load in the images of traffic lights and visualize them!\n",
    "\n",
    "2. **Pre-processing**. \n",
    "    The input images and output labels need to be standardized. This way, you can analyze all the input images using the same classification pipeline, and you know what output to expect when you eventually classify a *new* image.\n",
    "    \n",
    "3. **Feature extraction**. \n",
    "    Next, you'll extract some features from each image that will help distinguish and eventually classify these images.\n",
    "   \n",
    "4. **Classification and visualizing error**. \n",
    "    Finally, you'll write one function that uses your features to classify *any* traffic light image. This function will take in an image and output a label. You'll also be given code to determine the accuracy of your classification model.    \n",
    "    \n",
    "5. **Evaluate your model**.\n",
    "    To pass this project, your classifier must be >90% accurate and never classify any red lights as green; it's likely that you'll need to improve the accuracy of your classifier by changing existing features or adding new features. I'd also encourage you to try to get as close to 100% accuracy as possible!\n",
    "    \n",
    "Here are some sample images from the dataset (from left to right: red, green, and yellow traffic lights):\n",
    "<img src=\"images/all_lights.png\" width=\"50%\" height=\"50%\">\n"
   ]
  },
  {
   "cell_type": "markdown",
   "metadata": {},
   "source": [
    "---\n",
    "### *Here's what you need to know to complete the project:*\n",
    "\n",
    "Some template code has already been provided for you, but you'll need to implement additional code steps to successfully complete this project. Any code that is required to pass this project is marked with **'(IMPLEMENTATION)'** in the header. There are also a couple of questions about your thoughts as you work through this project, which are marked with **'(QUESTION)'** in the header. Make sure to answer all questions and to check your work against the [project rubric](https://review.udacity.com/#!/rubrics/1213/view) to make sure you complete the necessary classification steps!\n",
    "\n",
    "Your project submission will be evaluated based on the code implementations you provide, and on two main classification criteria.\n",
    "Your complete traffic light classifier should have:\n",
    "1. **Greater than 90% accuracy**\n",
    "2. ***Never* classify red lights as green**\n"
   ]
  },
  {
   "cell_type": "markdown",
   "metadata": {},
   "source": [
    "# 1. Loading and Visualizing the Traffic Light Dataset\n",
    "\n",
    "This traffic light dataset consists of 1484 number of color images in 3 categories - red, yellow, and green. As with most human-sourced data, the data is not evenly distributed among the types. There are:\n",
    "* 904 red traffic light images\n",
    "* 536 green traffic light images\n",
    "* 44 yellow traffic light images\n",
    "\n",
    "*Note: All images come from this [MIT self-driving car course](https://selfdrivingcars.mit.edu/) and are licensed under a [Creative Commons Attribution-ShareAlike 4.0 International License](https://creativecommons.org/licenses/by-sa/4.0/).*"
   ]
  },
  {
   "cell_type": "markdown",
   "metadata": {},
   "source": [
    "### Import resources\n",
    "\n",
    "Before you get started on the project code, import the libraries and resources that you'll need."
   ]
  },
  {
   "cell_type": "code",
   "execution_count": 81,
   "metadata": {},
   "outputs": [],
   "source": [
    "import cv2 # computer vision library\n",
    "import helpers # helper functions\n",
    "\n",
    "import random\n",
    "import numpy as np\n",
    "import matplotlib.pyplot as plt\n",
    "import matplotlib.image as mpimg # for loading in images\n",
    "import string\n",
    "\n",
    "%matplotlib inline"
   ]
  },
  {
   "cell_type": "markdown",
   "metadata": {},
   "source": [
    "## Training and Testing Data\n",
    "\n",
    "All 1484 of the traffic light images are separated into training and testing datasets. \n",
    "\n",
    "* 80% of these images are training images, for you to use as you create a classifier.\n",
    "* 20% are test images, which will be used to test the accuracy of your classifier.\n",
    "* All images are pictures of 3-light traffic lights with one light illuminated.\n",
    "\n",
    "## Define the image directories\n",
    "\n",
    "First, we set some variables to keep track of some where our images are stored:\n",
    "\n",
    "    IMAGE_DIR_TRAINING: the directory where our training image data is stored\n",
    "    IMAGE_DIR_TEST: the directory where our test image data is stored"
   ]
  },
  {
   "cell_type": "code",
   "execution_count": 82,
   "metadata": {},
   "outputs": [],
   "source": [
    "# Image data directories\n",
    "IMAGE_DIR_TRAINING = \"traffic_light_images/training/\"\n",
    "IMAGE_DIR_TEST = \"traffic_light_images/test/\""
   ]
  },
  {
   "cell_type": "markdown",
   "metadata": {},
   "source": [
    "## Load the datasets\n",
    "\n",
    "These first few lines of code will load the training traffic light images and store all of them in a variable, `IMAGE_LIST`. This list contains the images and their associated label (\"red\", \"yellow\", \"green\"). \n",
    "\n",
    "You are encouraged to take a look at the `load_dataset` function in the helpers.py file. This will give you a good idea about how lots of image files can be read in from a directory using the [glob library](https://pymotw.com/2/glob/). The `load_dataset` function takes in the name of an image directory and returns a list of images and their associated labels. \n",
    "\n",
    "For example, the first image-label pair in `IMAGE_LIST` can be accessed by index: \n",
    "``` IMAGE_LIST[0][:]```.\n"
   ]
  },
  {
   "cell_type": "code",
   "execution_count": 83,
   "metadata": {},
   "outputs": [],
   "source": [
    "# Using the load_dataset function in helpers.py\n",
    "# Load training data\n",
    "IMAGE_LIST = helpers.load_dataset(IMAGE_DIR_TRAINING)\n"
   ]
  },
  {
   "cell_type": "markdown",
   "metadata": {},
   "source": [
    "## Visualize the Data\n",
    "\n",
    "The first steps in analyzing any dataset are to 1. load the data and 2. look at the data. Seeing what it looks like will give you an idea of what to look for in the images, what kind of noise or inconsistencies you have to deal with, and so on. This will help you understand the image dataset, and **understanding a dataset is part of making predictions about the data**."
   ]
  },
  {
   "cell_type": "markdown",
   "metadata": {},
   "source": [
    "---\n",
    "### Visualize the input images\n",
    "\n",
    "Visualize and explore the image data! Write code to display an image in `IMAGE_LIST`:\n",
    "* Display the image\n",
    "* Print out the shape of the image \n",
    "* Print out its corresponding label\n",
    "\n",
    "See if you can display at least one of each type of traffic light image – red, green, and yellow — and look at their similarities and differences."
   ]
  },
  {
   "cell_type": "code",
   "execution_count": 85,
   "metadata": {},
   "outputs": [
    {
     "name": "stdout",
     "output_type": "stream",
     "text": [
      "0\n",
      "758\n",
      "723\n"
     ]
    },
    {
     "data": {
      "image/png": "[encoded data removed]",
      "text/plain": [
       "<matplotlib.figure.Figure at 0x7fb9689ac748>"
      ]
     },
     "metadata": {
      "needs_background": "light"
     },
     "output_type": "display_data"
    }
   ],
   "source": [
    "## TODO: Write code to display an image in IMAGE_LIST (try finding a yellow traffic light!)\n",
    "## TODO: Print out 1. The shape of the image and 2. The image's label\n",
    "\n",
    "# The first image in IMAGE_LIST is displayed below (without information about shape or label)\n",
    "#selected_image = IMAGE_LIST[0][0]\n",
    "\n",
    "#plt.imshow(selected_image)\n",
    "\n",
    "#print('Label of Traffic Light: ', selected_label)\n",
    "#print('Shape of image: ', selected_image.shape)\n",
    "\n",
    "# We want to pick an image of each color:\n",
    "colors = [\"red\", \"green\", \"yellow\"]\n",
    "\n",
    "# Initialize counter for images\n",
    "n = 0\n",
    "\n",
    "# Initialize subplots\n",
    "f, ax = plt.subplots(1,3, figsize=(5,7))\n",
    "f.tight_layout() \n",
    "\n",
    "# Loop over colors:\n",
    "for color in colors:\n",
    "\n",
    "    # Loop over all images:\n",
    "    for i in range(len(IMAGE_LIST)):\n",
    "        \n",
    "        # Check, if current color is a match:\n",
    "        if IMAGE_LIST[i][1] == color:\n",
    "            \n",
    "            print(i)\n",
    "            \n",
    "            # Extact data of the image\n",
    "            selected_image    = IMAGE_LIST[i][0]\n",
    "            selected_label    = 'Label : '+IMAGE_LIST[i][1]\n",
    "            selected_img_size = 'Size : '+str(selected_image.shape) \n",
    "\n",
    "            #print('Label of Traffic Light: ', selected_label)\n",
    "            #print('Shape of image: ', selected_image.shape)\n",
    "            \n",
    "            # Plot the image\n",
    "            ax[n].imshow(selected_image)\n",
    "            ax[n].set_title(selected_label+'\\n'+selected_img_size)\n",
    "                            \n",
    "            # Increase counter for images\n",
    "            n +=1\n",
    "            \n",
    "            # break loop after first match\n",
    "            break\n",
    "    "
   ]
  },
  {
   "cell_type": "markdown",
   "metadata": {},
   "source": [
    "# 2. Pre-process the Data\n",
    "\n",
    "After loading in each image, you have to standardize the input and output!\n",
    "\n",
    "### Input\n",
    "\n",
    "This means that every input image should be in the same format, of the same size, and so on. We'll be creating features by performing the same analysis on every picture, and for a classification task like this, it's important that **similar images create similar features**! \n",
    "\n",
    "### Output\n",
    "\n",
    "We also need the output to be a label that is easy to read and easy to compare with other labels. It is good practice to convert categorical data like \"red\" and \"green\" to numerical data.\n",
    "\n",
    "A very common classification output is a 1D list that is the length of the number of classes - three in the case of red, yellow, and green lights - with the values 0 or 1 indicating which class a certain image is. For example, since we have three classes (red, yellow, and green), we can make a list with the order: [red value, yellow value, green value]. In general, order does not matter, we choose the order [red value, yellow value, green value] in this case to reflect the position of each light in descending vertical order.\n",
    "\n",
    "A red light should have the  label: [1, 0, 0]. Yellow should be: [0, 1, 0]. Green should be: [0, 0, 1]. These labels are called **one-hot encoded labels**.\n",
    "\n",
    "*(Note: one-hot encoding will be especially important when you work with [machine learning algorithms](https://machinelearningmastery.com/how-to-one-hot-encode-sequence-data-in-python/)).*\n",
    "\n",
    "<img src=\"images/processing_steps.png\" width=\"80%\" height=\"80%\">\n"
   ]
  },
  {
   "cell_type": "markdown",
   "metadata": {},
   "source": [
    "---\n",
    "<a id='task2'></a>\n",
    "### (IMPLEMENTATION): Standardize the input images\n",
    "\n",
    "* Resize each image to the desired input size: 32x32px.\n",
    "* (Optional) You may choose to crop, shift, or rotate the images in this step as well.\n",
    "\n",
    "It's very common to have square input sizes that can be rotated (and remain the same size), and analyzed in smaller, square patches. It's also important to make all your images the same size so that they can be sent through the same pipeline of classification steps!"
   ]
  },
  {
   "cell_type": "code",
   "execution_count": 86,
   "metadata": {},
   "outputs": [
    {
     "data": {
      "text/plain": [
       "<matplotlib.image.AxesImage at 0x7fb968c68c50>"
      ]
     },
     "execution_count": 86,
     "metadata": {},
     "output_type": "execute_result"
    },
    {
     "data": {
      "image/png": "[encoded data removed]",
      "text/plain": [
       "<matplotlib.figure.Figure at 0x7fb968622a58>"
      ]
     },
     "metadata": {
      "needs_background": "light"
     },
     "output_type": "display_data"
    }
   ],
   "source": [
    "# This function should take in an RGB image and return a new, standardized version\n",
    "def standardize_input(image):\n",
    "    \n",
    "    ## TODO: Resize image and pre-process so that all \"standard\" images are the same size  \n",
    "    standard_im = np.copy(image)\n",
    "    \n",
    "    # Resize image to 32x32:\n",
    "    standard_im = cv2.resize(standard_im, (32,32))\n",
    "    \n",
    "    return standard_im\n",
    "    \n",
    "## Test:\n",
    "\n",
    "# Pick random image from image list:\n",
    "j = random.choice(range(len(IMAGE_LIST)))\n",
    "\n",
    "fig = plt.figure(figsize=(3,3))\n",
    "plt.imshow(standardize_input(IMAGE_LIST[j][0]))"
   ]
  },
  {
   "cell_type": "markdown",
   "metadata": {},
   "source": [
    "## Standardize the output\n",
    "\n",
    "With each loaded image, we also specify the expected output. For this, we use **one-hot encoding**.\n",
    "\n",
    "* One-hot encode the labels. To do this, create an array of zeros representing each class of traffic light (red, yellow, green), and set the index of the expected class number to 1. \n",
    "\n",
    "Since we have three classes (red, yellow, and green), we have imposed an order of: [red value, yellow value, green value]. To one-hot encode, say, a yellow light, we would first initialize an array to [0, 0, 0] and change the middle value (the yellow value) to 1: [0, 1, 0].\n"
   ]
  },
  {
   "cell_type": "markdown",
   "metadata": {},
   "source": [
    "---\n",
    "<a id='task3'></a>\n",
    "### (IMPLEMENTATION): Implement one-hot encoding"
   ]
  },
  {
   "cell_type": "code",
   "execution_count": 87,
   "metadata": {},
   "outputs": [
    {
     "name": "stdout",
     "output_type": "stream",
     "text": [
      "green\n"
     ]
    },
    {
     "data": {
      "text/plain": [
       "[0, 0, 1]"
      ]
     },
     "execution_count": 87,
     "metadata": {},
     "output_type": "execute_result"
    }
   ],
   "source": [
    "## TODO: One hot encode an image label\n",
    "## Given a label - \"red\", \"green\", or \"yellow\" - return a one-hot encoded label\n",
    "\n",
    "# Examples: \n",
    "# one_hot_encode(\"red\") should return: [1, 0, 0]\n",
    "# one_hot_encode(\"yellow\") should return: [0, 1, 0]\n",
    "# one_hot_encode(\"green\") should return: [0, 0, 1]\n",
    "\n",
    "def one_hot_encode(label):\n",
    "    \n",
    "    ## TODO: Create a one-hot encoded label that works for all classes of traffic lights\n",
    "    one_hot_encoded = [0, 0, 0] \n",
    "    \n",
    "    if label == 'red':\n",
    "        one_hot_encoded[0] = 1\n",
    "        \n",
    "    elif label == 'yellow':\n",
    "         one_hot_encoded[1] = 1\n",
    "    \n",
    "    else:\n",
    "         one_hot_encoded[2] = 1\n",
    "    \n",
    "    \n",
    "    return one_hot_encoded\n",
    "\n",
    "print(IMAGE_LIST[j][1])\n",
    "one_hot_encode(IMAGE_LIST[j][1])"
   ]
  },
  {
   "cell_type": "markdown",
   "metadata": {},
   "source": [
    "### Testing as you Code\n",
    "\n",
    "After programming a function like this, it's a good idea to test it, and see if it produces the expected output. **In general, it's good practice to test code in small, functional pieces, after you write it**. This way, you can make sure that your code is correct as you continue to build a classifier, and you can identify any errors early on so that they don't compound.\n",
    "\n",
    "All test code can be found in the file `test_functions.py`. You are encouraged to look through that code and add your own testing code if you find it useful!\n",
    "\n",
    "One test function you'll find is: `test_one_hot(self, one_hot_function)` which takes in one argument, a one_hot_encode function, and tests its functionality. If your one_hot_label code does not work as expected, this test will print ot an error message that will tell you a bit about why your code failed. Once your code works, this should print out TEST PASSED."
   ]
  },
  {
   "cell_type": "code",
   "execution_count": 88,
   "metadata": {},
   "outputs": [
    {
     "data": {
      "text/markdown": [
       "**<span style=\"color: green;\">TEST PASSED</span>**"
      ],
      "text/plain": [
       "<IPython.core.display.Markdown object>"
      ]
     },
     "metadata": {},
     "output_type": "display_data"
    }
   ],
   "source": [
    "# Importing the tests\n",
    "import test_functions\n",
    "tests = test_functions.Tests()\n",
    "\n",
    "# Test for one_hot_encode function\n",
    "tests.test_one_hot(one_hot_encode)\n"
   ]
  },
  {
   "cell_type": "markdown",
   "metadata": {},
   "source": [
    "## Construct a `STANDARDIZED_LIST` of input images and output labels.\n",
    "\n",
    "This function takes in a list of image-label pairs and outputs a **standardized** list of resized images and one-hot encoded labels.\n",
    "\n",
    "This uses the functions you defined above to standardize the input and output, so those functions must be complete for this standardization to work!\n"
   ]
  },
  {
   "cell_type": "code",
   "execution_count": 89,
   "metadata": {},
   "outputs": [],
   "source": [
    "def standardize(image_list):\n",
    "    \n",
    "    # Empty image data array\n",
    "    standard_list = []\n",
    "\n",
    "    # Iterate through all the image-label pairs\n",
    "    for item in image_list:\n",
    "        image = item[0]\n",
    "        label = item[1]\n",
    "\n",
    "        # Standardize the image\n",
    "        standardized_im = standardize_input(image)\n",
    "\n",
    "        # One-hot encode the label\n",
    "        one_hot_label = one_hot_encode(label)    \n",
    "\n",
    "        # Append the image, and it's one hot encoded label to the full, processed list of image data \n",
    "        standard_list.append((standardized_im, one_hot_label))\n",
    "        \n",
    "    return standard_list\n",
    "\n",
    "# Standardize all training images\n",
    "STANDARDIZED_LIST = standardize(IMAGE_LIST)"
   ]
  },
  {
   "cell_type": "code",
   "execution_count": 90,
   "metadata": {},
   "outputs": [
    {
     "name": "stdout",
     "output_type": "stream",
     "text": [
      "Label of Traffic Light:  [0, 0, 1]\n",
      "Shape of image:  (32, 32, 3)\n"
     ]
    },
    {
     "data": {
      "image/png": "[encoded data removed]",
      "text/plain": [
       "<matplotlib.figure.Figure at 0x7fb96b51a748>"
      ]
     },
     "metadata": {
      "needs_background": "light"
     },
     "output_type": "display_data"
    }
   ],
   "source": [
    "standardized_image = STANDARDIZED_LIST[j]\n",
    "\n",
    "fig = plt.figure(figsize=(3,3))\n",
    "plt.imshow(standardized_image[0])\n",
    "\n",
    "print('Label of Traffic Light: ', standardized_image[1])\n",
    "print('Shape of image: ', standardized_image[0].shape)"
   ]
  },
  {
   "cell_type": "code",
   "execution_count": 91,
   "metadata": {},
   "outputs": [
    {
     "name": "stdout",
     "output_type": "stream",
     "text": [
      "Label of Traffic Light:  green\n",
      "Shape of image:  (64, 40, 3)\n"
     ]
    },
    {
     "data": {
      "image/png": "[encoded data removed]",
      "text/plain": [
       "<matplotlib.figure.Figure at 0x7fb9689f8160>"
      ]
     },
     "metadata": {
      "needs_background": "light"
     },
     "output_type": "display_data"
    }
   ],
   "source": [
    "image = IMAGE_LIST[j]\n",
    "\n",
    "fig = plt.figure(figsize=(3,3))\n",
    "plt.imshow(image[0])\n",
    "\n",
    "print('Label of Traffic Light: ', image[1])\n",
    "print('Shape of image: ', image[0].shape)"
   ]
  },
  {
   "cell_type": "markdown",
   "metadata": {},
   "source": [
    "## Visualize the standardized data\n",
    "\n",
    "Display a standardized image from STANDARDIZED_LIST and compare it with a non-standardized image from IMAGE_LIST. Note that their sizes and appearance are different!"
   ]
  },
  {
   "cell_type": "code",
   "execution_count": 92,
   "metadata": {},
   "outputs": [],
   "source": [
    "def show_images(image, label, size=True):\n",
    "\n",
    "    selected_label    = 'Label : '+str(label)\n",
    "    selected_img_size = 'Size : ' +str(image.shape) \n",
    "            \n",
    "    # Plot the image\n",
    "    fig = plt.figure(figsize=(3,3))\n",
    "    plt.imshow(image)\n",
    "    \n",
    "    if size == True:\n",
    "        plt.title(selected_label+'\\n'+selected_img_size)\n",
    "        \n",
    "    else:\n",
    "        plt.title(selected_label)\n",
    "\n",
    "    plt.show"
   ]
  },
  {
   "cell_type": "code",
   "execution_count": 93,
   "metadata": {},
   "outputs": [],
   "source": [
    "def get_label_and_image(list_element):\n",
    "    \n",
    "    image = list_element[0]\n",
    "    label = list_element[1]\n",
    "    \n",
    "    return image, label"
   ]
  },
  {
   "cell_type": "code",
   "execution_count": 94,
   "metadata": {},
   "outputs": [
    {
     "data": {
      "image/png": "[encoded data removed]",
      "text/plain": [
       "<matplotlib.figure.Figure at 0x7fb96839bbe0>"
      ]
     },
     "metadata": {
      "needs_background": "light"
     },
     "output_type": "display_data"
    },
    {
     "data": {
      "image/png": "[encoded data removed]",
      "text/plain": [
       "<matplotlib.figure.Figure at 0x7fb968cce860>"
      ]
     },
     "metadata": {
      "needs_background": "light"
     },
     "output_type": "display_data"
    }
   ],
   "source": [
    "## TODO: Display a standardized image and its label\n",
    "\n",
    "# 1) non-standardized image for random list index j:\n",
    "\n",
    "image, label = get_label_and_image(IMAGE_LIST[j])\n",
    "show_images(image, label)\n",
    "\n",
    "\n",
    "\n",
    "# 1) standardized image for random list index j:\n",
    "\n",
    "st_image, st_label = get_label_and_image(STANDARDIZED_LIST[j])\n",
    "show_images(st_image, st_label)\n"
   ]
  },
  {
   "cell_type": "markdown",
   "metadata": {},
   "source": [
    "# 3. Feature Extraction\n",
    "\n",
    "You'll be using what you now about color spaces, shape analysis, and feature construction to create features that help distinguish and classify the three types of traffic light images.\n",
    "\n",
    "You'll be tasked with creating **one feature** at a minimum (with the option to create more). The required feature is **a brightness feature using HSV color space**:\n",
    "\n",
    "1. A brightness feature.\n",
    "    - Using HSV color space, create a feature that helps you identify the 3 different classes of traffic light.\n",
    "    - You'll be asked some questions about what methods you tried to locate this traffic light, so, as you progress through this notebook, always be thinking about your approach: what works and what doesn't?\n",
    "\n",
    "2. (Optional): Create more features! \n",
    "\n",
    "Any more features that you create are up to you and should improve the accuracy of your traffic light classification algorithm! One thing to note is that, to pass this project you must **never classify a red light as a green light** because this creates a serious safety risk for a self-driving car. To avoid this misclassification, you might consider adding another feature that specifically distinguishes between red and green lights.\n",
    "\n",
    "These features will be combined near the end of his notebook to form a complete classification algorithm."
   ]
  },
  {
   "cell_type": "markdown",
   "metadata": {},
   "source": [
    "## Creating a brightness feature \n",
    "\n",
    "There are a number of ways to create a brightness feature that will help you characterize images of traffic lights, and it will be up to you to decide on the best procedure to complete this step. You should visualize and test your code as you go.\n",
    "\n",
    "Pictured below is a sample pipeline for creating a brightness feature (from left to right: standardized image, HSV color-masked image, cropped image, brightness feature):\n",
    "\n",
    "<img src=\"images/feature_ext_steps.png\" width=\"70%\" height=\"70%\">\n"
   ]
  },
  {
   "cell_type": "markdown",
   "metadata": {},
   "source": [
    "## RGB to HSV conversion\n",
    "\n",
    "Below, a test image is converted from RGB to HSV colorspace and each component is displayed in an image."
   ]
  },
  {
   "cell_type": "code",
   "execution_count": 95,
   "metadata": {},
   "outputs": [
    {
     "name": "stdout",
     "output_type": "stream",
     "text": [
      "Label [red, yellow, green]: [1, 0, 0]\n"
     ]
    },
    {
     "data": {
      "image/png": "[encoded data removed]",
      "text/plain": [
       "<matplotlib.figure.Figure at 0x7fb9688addd8>"
      ]
     },
     "metadata": {
      "needs_background": "light"
     },
     "output_type": "display_data"
    }
   ],
   "source": [
    "# Convert and image to HSV colorspace\n",
    "# Visualize the individual color channels\n",
    "\n",
    "image_num = 0\n",
    "test_im = STANDARDIZED_LIST[image_num][0]\n",
    "test_label = STANDARDIZED_LIST[image_num][1]\n",
    "\n",
    "# Convert to HSV\n",
    "hsv = cv2.cvtColor(test_im, cv2.COLOR_RGB2HSV)\n",
    "\n",
    "# Print image label\n",
    "print('Label [red, yellow, green]: ' + str(test_label))\n",
    "\n",
    "# HSV channels\n",
    "h = hsv[:,:,0]\n",
    "s = hsv[:,:,1]\n",
    "v = hsv[:,:,2]\n",
    "\n",
    "# Sum up a HSV channel horizontally\n",
    "color_channel = np.sum(hsv[:,:,2], axis=1) \n",
    "\n",
    "#print(color_channel)\n",
    "\n",
    "\n",
    "# Plot the original image and the three channels\n",
    "f, (ax1, ax2, ax3, ax4, ax5) = plt.subplots(1, 5, figsize=(20,3))\n",
    "\n",
    "ax1.set_title('Standardized image')\n",
    "ax1.imshow(test_im)\n",
    "ax2.set_title('H channel')\n",
    "ax2.imshow(h, cmap='gray')\n",
    "ax3.set_title('S channel')\n",
    "ax3.imshow(s, cmap='gray')\n",
    "ax4.set_title('V channel')\n",
    "ax4.imshow(v, cmap='gray')\n",
    "\n",
    "ax5.barh(range(len(color_channel)), color_channel)\n",
    "ax5.invert_yaxis() #display chart corresponding to images (top=start)\n"
   ]
  },
  {
   "cell_type": "markdown",
   "metadata": {},
   "source": [
    "---\n",
    "<a id='task7'></a>\n",
    "### (IMPLEMENTATION): Create a brightness feature that uses HSV color space\n",
    "\n",
    "Write a function that takes in an RGB image and returns a 1D feature vector and/or single value that will help classify an image of a traffic light. The only requirement is that this function should apply an HSV colorspace transformation, the rest is up to you. \n",
    "\n",
    "From this feature, you should be able to estimate an image's label and classify it as either a red, green, or yellow traffic light. You may also define helper functions if they simplify your code."
   ]
  },
  {
   "cell_type": "markdown",
   "metadata": {},
   "source": [
    "### Test Color Extraction (as preparation of feature engineering)"
   ]
  },
  {
   "cell_type": "code",
   "execution_count": 96,
   "metadata": {},
   "outputs": [
    {
     "data": {
      "text/plain": [
       "(-0.5, 31.5, 31.5, -0.5)"
      ]
     },
     "execution_count": 96,
     "metadata": {},
     "output_type": "execute_result"
    },
    {
     "data": {
      "image/png": "[encoded data removed]",
      "text/plain": [
       "<matplotlib.figure.Figure at 0x7fb968f03c18>"
      ]
     },
     "metadata": {
      "needs_background": "light"
     },
     "output_type": "display_data"
    }
   ],
   "source": [
    "##  Test color extraction for feature generation:\n",
    "\n",
    "# Get test image from standardized image list\n",
    "\n",
    "#image_num = 1   # red\n",
    "#image_num = 750 # yellow\n",
    "image_num = 1050 # green\n",
    "\n",
    "test_image, test_label = get_label_and_image(STANDARDIZED_LIST[image_num])\n",
    "\n",
    "# Convert test image from RGB to HSV\n",
    "hsv = cv2.cvtColor(test_image, cv2.COLOR_RGB2HSV)\n",
    "     \n",
    "## Extract RED color from HSV image\n",
    "# There are two areas for red color in the HSV spectrum\n",
    "# Source: https://cvexplained.wordpress.com/2020/04/28/color-detection-hsv/\n",
    "\n",
    "# mask1: far right area on HSV map:\n",
    "mask1 = cv2.inRange(hsv, (160,50,50), (180,255,255))\n",
    "\n",
    "# mask2: far left area on HSV map:\n",
    "mask2 = cv2.inRange(hsv, (0,30,50), (10,255,255))\n",
    "\n",
    "# Combine areas of mask1 and mask2:\n",
    "# Corresponding operation: \n",
    "# Logical-\"OR\" which is inclusive (area of mask1 or mask2 or both)\n",
    "#mask = cv2.bitwise_or(mask1,mask2)\n",
    "\n",
    "## Extract GREEN color from HSV image\n",
    "mask = cv2.inRange(hsv, (35,40,90), (100,255,255))\n",
    "\n",
    "## Extract YELLOW color from HSV image\n",
    "#mask = cv2.inRange(hsv, (11,30,110), (34,255,255))\n",
    "\n",
    "# Get a copy of image for editing\n",
    "masked_hsv = np.copy(hsv)\n",
    "\n",
    "# Apply mask on image\n",
    "# Note: Instead of inverting the mask ('bitwise_not') and then\n",
    "# applying on image with [mask !=0], we go directly with [mask==0]\n",
    "masked_hsv[mask == 0] = [0, 0, 0] \n",
    "\n",
    "# Convert to masked image back to RGB\n",
    "masked_rgb = cv2.cvtColor(masked_hsv, cv2.COLOR_HSV2RGB)\n",
    "\n",
    "# Plot the different operations for better understanding:\n",
    "plt.figure(figsize=[8,20])\n",
    "\n",
    "plt.subplot(131) # layout: 3 images in a row, first\n",
    "plt.imshow(test_image)\n",
    "plt.title(\"Normalized image\",fontdict={'fontsize': 12})\n",
    "plt.axis('off') # no axis\n",
    "\n",
    "plt.subplot(132) # layout: 3 images in a row, second\n",
    "plt.imshow(mask, cmap='gray')\n",
    "plt.title(\"HSV-Mask for red color\",fontdict={'fontsize': 12})\n",
    "plt.axis('off') # no axis\n",
    "\n",
    "plt.subplot(133) # layout: 3 images in a row, third\n",
    "plt.imshow(masked_rgb)\n",
    "plt.title(\"Masked RGB image\",fontdict={'fontsize': 12})\n",
    "plt.axis('off') # no axis\n"
   ]
  },
  {
   "cell_type": "markdown",
   "metadata": {},
   "source": [
    "### Define Helper Functions:"
   ]
  },
  {
   "cell_type": "code",
   "execution_count": 97,
   "metadata": {},
   "outputs": [],
   "source": [
    "# (Optional) Add more image analysis and create more features\n",
    "    \n",
    "\n",
    "def get_color_mask(hsv):\n",
    "    \n",
    "    \"\"\"\n",
    "    Function applies and returns red, green and yellow color masks on an image.\n",
    "    (Note: Suitable color ranges for R, G and Y where identified in the cell above)\n",
    "    \n",
    "    * Input:  hsv image\n",
    "    * Output: color masked images (for red, green, yellow)\n",
    "    \"\"\"\n",
    "    \n",
    "    # Convert test image from RGB to HSV\n",
    "    #hsv = cv2.cvtColor(image, cv2.COLOR_RGB2HSV)\n",
    "\n",
    "    ## Extract RED color from HSV image\n",
    "\n",
    "    # mask1: far right area on HSV map:\n",
    "    RED1_mask = cv2.inRange(hsv, (160,50,50), (180,255,255))\n",
    "\n",
    "    # mask2: far left area on HSV map:\n",
    "    RED2_mask = cv2.inRange(hsv, (0,30,50), (10,255,255))\n",
    "\n",
    "    # Combine areas of mask1 and mask2:        \n",
    "    R = cv2.bitwise_or(RED1_mask, RED2_mask)\n",
    "        \n",
    "    ## Extract GREEN color from HSV image\n",
    "    G = cv2.inRange(hsv, (35,40,90), (101,255,255))\n",
    "\n",
    "    ## Extract YELLOW color from HSV image\n",
    "    Y = cv2.inRange(hsv, (11,30,110), (34,255,255))\n",
    "    \n",
    "    # Get a copy of image for editing\n",
    "    masked_hsv_R = np.copy(hsv)\n",
    "    masked_hsv_G = np.copy(hsv)\n",
    "    masked_hsv_Y = np.copy(hsv)\n",
    "\n",
    "    # Apply mask on image\n",
    "    masked_hsv_R[R == 0] = [0, 0, 0] \n",
    "    masked_hsv_G[G == 0] = [0, 0, 0] \n",
    "    masked_hsv_Y[Y == 0] = [0, 0, 0] \n",
    "        \n",
    "    return masked_hsv_R, masked_hsv_G, masked_hsv_Y\n",
    "\n",
    "\n",
    "def get_max_brightness(hsv):\n",
    "    \n",
    "    \"\"\"\n",
    "    Function sums up the brightnesses of an image and normalizes \n",
    "    the resulting sum with the size of the image.\n",
    "    (Note: brightness corresponds to value-channel in hsv\n",
    "           e.g. black: v = 0%, white: v = 100%\n",
    "           https://de.wikipedia.org/wiki/HSV-Farbraum\n",
    "    )\n",
    "    \n",
    "    * Input:  hsv image\n",
    "    * Output: normalized overall brightness \n",
    "    \"\"\"\n",
    "\n",
    "    # Get brightness information\n",
    "    v_map = hsv[:,:,2]\n",
    "    \n",
    "    # Calculate brightness metrice\n",
    "    v_row_sum = np.sum(v_map, axis=1)\n",
    "    \n",
    "    # Get map size\n",
    "    (w, h)   = v_map.shape\n",
    "    map_area = w*h\n",
    "    \n",
    "    # Get brigthness normalized with map size\n",
    "    v_normalized = np.sum(v_row_sum)/map_area\n",
    "    \n",
    "    return v_normalized\n",
    "\n",
    "#def get_\n"
   ]
  },
  {
   "cell_type": "code",
   "execution_count": 98,
   "metadata": {},
   "outputs": [],
   "source": [
    "## TODO: Create a brightness feature that takes in an RGB image and outputs a feature vector and/or value\n",
    "## This feature should use HSV colorspace values\n",
    "\n",
    "def create_feature(rgb_image):\n",
    "    \n",
    "    '''\n",
    "    Function assesses traffic light images according to the maximum brightness\n",
    "    per red, green and yellow color masks. To do so, the function creates\n",
    "    color masks for red, yellow and green areas and calculates the sum of the values\n",
    "    of brightness per mask.\n",
    "   \n",
    "    * Input: RGB image\n",
    "    * Output: Normalized vertical positioning values for top, middle, bottom\n",
    "    '''\n",
    "    \n",
    "    ## TODO: Convert image to HSV color space\n",
    "    \n",
    "    # Convert to HSV\n",
    "    hsv = cv2.cvtColor(rgb_image, cv2.COLOR_RGB2HSV)\n",
    "    \n",
    "    ## TODO: Create and return a feature value and/or vector\n",
    "    \n",
    "    # Step 1: Generate color masks from image for red, green, yellow\n",
    "    red_hsv, green_hsv, yellow_hsv = get_color_mask(hsv)\n",
    "    \n",
    "    # Step2: Calculate the normalized sums of brightness for each color map\n",
    "    v_max_red    = get_max_brightness(red_hsv   )\n",
    "    v_max_green  = get_max_brightness(green_hsv )\n",
    "    v_max_yellow = get_max_brightness(yellow_hsv)\n",
    "\n",
    "    # Return Feature vector \n",
    "    # (note: order already in accordance to one-hot encoded: (red, yellow, green)\n",
    "    return [v_max_red, v_max_yellow, v_max_green]\n"
   ]
  },
  {
   "cell_type": "code",
   "execution_count": 99,
   "metadata": {},
   "outputs": [
    {
     "name": "stdout",
     "output_type": "stream",
     "text": [
      "Feature output:  [13.8564453125, 11.0810546875, 0.0]\n",
      "Estimated label: [1, 0, 0]\n"
     ]
    },
    {
     "data": {
      "image/png": "[encoded data removed]",
      "text/plain": [
       "<matplotlib.figure.Figure at 0x7fb9682b1470>"
      ]
     },
     "metadata": {
      "needs_background": "light"
     },
     "output_type": "display_data"
    }
   ],
   "source": [
    "## Test feature implementation:\n",
    "\n",
    "image_num = 754\n",
    "\n",
    "test_image, test_label = get_label_and_image(STANDARDIZED_LIST[image_num])\n",
    "\n",
    "estimation = create_feature(test_image)\n",
    "\n",
    "Feature = [0, 0, 0]\n",
    "\n",
    "estimated_label = np.argmax(estimation)\n",
    "Feature[estimated_label]=1\n",
    "\n",
    "print('Feature output:  '+ str(estimation))\n",
    "print('Estimated label: '+ str(Feature))\n",
    "\n",
    "show_images(test_image, test_label)"
   ]
  },
  {
   "cell_type": "markdown",
   "metadata": {
    "collapsed": true
   },
   "source": [
    "## (Optional) Create more features to help accurately label the traffic light images"
   ]
  },
  {
   "cell_type": "code",
   "execution_count": 100,
   "metadata": {},
   "outputs": [
    {
     "name": "stdout",
     "output_type": "stream",
     "text": [
      "[0 0 0 0 0 0 0 0 0 0 1 1 1 1 1 1 1 1 1 1 1 1 1 1 1 0 0 0 0 0 0 0]\n",
      "[0.10000000000000001, 1.0, 0.40000000000000002]\n"
     ]
    },
    {
     "data": {
      "image/png": "[encoded data removed]",
      "text/plain": [
       "<matplotlib.figure.Figure at 0x7fb96919de48>"
      ]
     },
     "metadata": {
      "needs_background": "light"
     },
     "output_type": "display_data"
    }
   ],
   "source": [
    "## Test new feature: Location of color in image\n",
    "\n",
    "## Feature idea: In a traffic light each color, red, yellow or green have a\n",
    "## specific vertical area in the image where they usually are located.\n",
    "## If the decision based on the maximum brightness in the color maps is\n",
    "## not clear, we can use this as an additional check to improve the estimate.\n",
    "\n",
    "# image data\n",
    "image_num = 754\n",
    "test_image, test_label = get_label_and_image(STANDARDIZED_LIST[image_num])\n",
    "\n",
    "# Convert to hsv\n",
    "hsv = cv2.cvtColor(test_image, cv2.COLOR_RGB2HSV)\n",
    "\n",
    "# Use helper for getting color maps\n",
    "red_hsv, green_hsv, yellow_hsv = get_color_mask(hsv)\n",
    "\n",
    "# Create combined color map:\n",
    "color_map = cv2.bitwise_or(red_hsv, green_hsv, yellow_hsv)\n",
    "\n",
    "## Feature-specific part:\n",
    "\n",
    "# Get brightness information\n",
    "v_map = color_map[:,:,2]\n",
    "    \n",
    "# Calculate row sum of brightness\n",
    "v_row_sum = np.sum(v_map, axis=1)\n",
    "\n",
    "# initialize new vector\n",
    "vertical_pos = v_row_sum\n",
    "vector_len = len(v_row_sum)\n",
    "\n",
    "# Replace brightness values (=non-zeros) with '1':\n",
    "\n",
    "for i in range(0,vector_len):\n",
    "    if v_row_sum[i] != 0:\n",
    "        vertical_pos[i] = 1\n",
    "\n",
    "# Divide vector in vertical areas and calculate sums:\n",
    "        \n",
    "# Upper area of image - indicates RED:\n",
    "v_sum_upper  = sum(vertical_pos[1:11])/len(vertical_pos[1:11])\n",
    "\n",
    "# Middle area of image - indicates Yellow:\n",
    "v_sum_middle = sum(vertical_pos[11:21])/len(vertical_pos[11:21])\n",
    "\n",
    "# Upper area of image - indicates Green:\n",
    "v_sum_lower  = sum(vertical_pos[21:31])/len(vertical_pos[21:31])\n",
    "\n",
    "estimation2 = [v_sum_upper, v_sum_middle, v_sum_lower]\n",
    "\n",
    "print(v_row_sum)\n",
    "print(estimation2)\n",
    "\n",
    "show_images(test_image, test_label)"
   ]
  },
  {
   "cell_type": "code",
   "execution_count": 101,
   "metadata": {},
   "outputs": [],
   "source": [
    "def create_feature2(rgb_image):\n",
    "    \n",
    "    '''\n",
    "    Function assesses traffic light images according to the vertical position\n",
    "    of the colored areas in the images. To do so, the function uses a combined\n",
    "    color mask with red, yellow or green areas (logical disjunction). Then it \n",
    "    is assessed wheather the areas with highest brightness lie on the\n",
    "    top (= indicates red), middle (= indicates yellow) or bottom (= indicates green)\n",
    "    of the image\n",
    "    \n",
    "    * Input: RGB image\n",
    "    * Output: Normalized vertical positioning values for top, middle, bottom\n",
    "    '''\n",
    "    \n",
    "    ## TODO: Convert image to HSV color space\n",
    "    \n",
    "    # Convert to HSV\n",
    "    hsv = cv2.cvtColor(rgb_image, cv2.COLOR_RGB2HSV)\n",
    "    \n",
    "    ## TODO: Create and return a feature value and/or vector\n",
    "    \n",
    "    # Step 1: Generate color masks from image for red, green, yellow\n",
    "    red_hsv, green_hsv, yellow_hsv = get_color_mask(hsv)\n",
    "    \n",
    "    # Step2: Combine red, yellow and green to one color map\n",
    "    color_map = cv2.bitwise_or(red_hsv, green_hsv, yellow_hsv)\n",
    "    \n",
    "    # Get brightness information\n",
    "    v_map = color_map[:,:,2]\n",
    "    \n",
    "    # Calculate row sum of brightness\n",
    "    v_row_sum = np.sum(v_map, axis=1)\n",
    "\n",
    "    # initialize new vector\n",
    "    vertical_pos = v_row_sum\n",
    "    vector_len = len(v_row_sum)\n",
    "\n",
    "    # Replace brightness values (=non-zeros) with '1':\n",
    "\n",
    "    for i in range(0,vector_len):\n",
    "        if v_row_sum[i] != 0:\n",
    "            vertical_pos[i] = 1\n",
    "\n",
    "    # Divide vector in vertical areas and calculate sums:\n",
    "\n",
    "    # Upper area of image - indicates RED:\n",
    "    v_sum_upper  = sum(vertical_pos[1:11])/len(vertical_pos[1:11])\n",
    "\n",
    "    # Middle area of image - indicates Yellow:\n",
    "    v_sum_middle = sum(vertical_pos[11:21])/len(vertical_pos[11:21])\n",
    "\n",
    "    # Upper area of image - indicates Green:\n",
    "    v_sum_lower  = sum(vertical_pos[21:31])/len(vertical_pos[21:31])\n",
    "    \n",
    "    # Return Feature vector \n",
    "    # (note: order already in accordance to one-hot encoded: (red, yellow, green)\n",
    "    \n",
    "    return [v_sum_upper, v_sum_middle, v_sum_lower]"
   ]
  },
  {
   "cell_type": "markdown",
   "metadata": {},
   "source": [
    "## (QUESTION 1): How do the features you made help you distinguish between the 3 classes of traffic light images?"
   ]
  },
  {
   "cell_type": "markdown",
   "metadata": {},
   "source": [
    "**Answer:**\n",
    "The first feature creates three seperate color masks of an image for red, yellow and green. It then sums up the brightness values for each color map. The color map which best isolates the existing color in an image gets the highest sums. This works good as long as there is one dominant color per image (as it is mostly with traffic lights;-).\n",
    "The second feature takes into consideration that the colors on a traffic light are ordered vertically. It examines the area where a red, yellow or green color appears in the image. For example, if the overall brightness is highest in the top region of the image, the classifier deducts that there might be a red traffic light. This classifier is less precise than the first one, but it can be used in addition to it when the overall color situation is not so clear.\n"
   ]
  },
  {
   "cell_type": "markdown",
   "metadata": {
    "collapsed": true
   },
   "source": [
    "# 4. Classification and Visualizing Error\n",
    "\n",
    "Using all of your features, write a function that takes in an RGB image and, using your extracted features, outputs whether a light is red, green or yellow as a one-hot encoded label. This classification function should be able to classify any image of a traffic light!\n",
    "\n",
    "You are encouraged to write any helper functions or visualization code that you may need, but for testing the accuracy, make sure that this `estimate_label` function returns a one-hot encoded label."
   ]
  },
  {
   "cell_type": "markdown",
   "metadata": {},
   "source": [
    "---\n",
    "<a id='task8'></a>\n",
    "### (IMPLEMENTATION): Build a complete classifier "
   ]
  },
  {
   "cell_type": "code",
   "execution_count": 102,
   "metadata": {},
   "outputs": [],
   "source": [
    "# This function should take in RGB image input\n",
    "# Analyze that image using your feature creation code and output a one-hot encoded label\n",
    "def estimate_label(rgb_image):\n",
    "    \n",
    "    ## TODO: Extract feature(s) from the RGB image and use those features to\n",
    "    ## classify the image and output a one-hot encoded label\n",
    "    \n",
    "    ## Feature 1:\n",
    "    \n",
    "    # Return vector of brightness feature\n",
    "    # (brightness mask red, brightness mask yellow, brightness mask green)\n",
    "    feature_v_RYG = create_feature(rgb_image)\n",
    "\n",
    "    # Return index of maximal brightness value:\n",
    "    # Note: np.argmax return the first maximum in array,\n",
    "    # so it realizes a 'fail safe' since red is the first\n",
    "    # position in array (false positive for red lights)\n",
    "    idx_max_v = np.argmax(feature_v_RYG)\n",
    "    \n",
    "    ## Feature 2:\n",
    "    \n",
    "    # Return vector of vertial position feature \n",
    "    # (upper = red, middle = yellow, lower = green):\n",
    "    feature_v_pos = create_feature2(rgb_image)\n",
    "    \n",
    "    # Return index of maximal assessment of color channels\n",
    "    idx_max_pos = np.argmax(feature_v_pos)\n",
    "    \n",
    "    ## Classify image:\n",
    "\n",
    "    # Initialize one-hot encoded labeling: [Red, Yellow, Green]\n",
    "    predicted_label = [0, 0, 0]\n",
    "    \n",
    "    # Get maximal brightness value\n",
    "    max_v = feature_v_RYG[idx_max_v]\n",
    "    \n",
    "    # If maximum from brightness feature is not too certain\n",
    "    # Note: 0.85 threshold deducted from trying around\n",
    "    \n",
    "    if max_v < 0.85*sum(feature_v_RYG):\n",
    "        \n",
    "        # Use vertical position feature\n",
    "        # Set value to '1' for returned index\n",
    "        predicted_label[idx_max_pos] = 1\n",
    " \n",
    "    else:\n",
    "\n",
    "        # Use brightness feature\n",
    "        # Set value to '1' for returned index\n",
    "        predicted_label[idx_max_v] = 1\n",
    "    \n",
    "    return predicted_label   \n",
    "    "
   ]
  },
  {
   "cell_type": "markdown",
   "metadata": {},
   "source": [
    "## Testing the classifier\n",
    "\n",
    "Here is where we test your classification algorithm using our test set of data that we set aside at the beginning of the notebook! This project will be complete once you've pogrammed a \"good\" classifier.\n",
    "\n",
    "A \"good\" classifier in this case should meet the following criteria (and once it does, feel free to submit your project):\n",
    "1. Get above 90% classification accuracy.\n",
    "2. Never classify a red light as a green light. \n",
    "\n",
    "### Test dataset\n",
    "\n",
    "Below, we load in the test dataset, standardize it using the `standardize` function you defined above, and then **shuffle** it; this ensures that order will not play a role in testing accuracy.\n"
   ]
  },
  {
   "cell_type": "code",
   "execution_count": 103,
   "metadata": {},
   "outputs": [],
   "source": [
    "# Using the load_dataset function in helpers.py\n",
    "# Load test data\n",
    "TEST_IMAGE_LIST = helpers.load_dataset(IMAGE_DIR_TEST)\n",
    "\n",
    "# Standardize the test data\n",
    "STANDARDIZED_TEST_LIST = standardize(TEST_IMAGE_LIST)\n",
    "\n",
    "# Shuffle the standardized test data\n",
    "random.shuffle(STANDARDIZED_TEST_LIST)"
   ]
  },
  {
   "cell_type": "markdown",
   "metadata": {},
   "source": [
    "## Determine the Accuracy\n",
    "\n",
    "Compare the output of your classification algorithm (a.k.a. your \"model\") with the true labels and determine the accuracy.\n",
    "\n",
    "This code stores all the misclassified images, their predicted labels, and their true labels, in a list called `MISCLASSIFIED`. This code is used for testing and *should not be changed*."
   ]
  },
  {
   "cell_type": "code",
   "execution_count": 104,
   "metadata": {},
   "outputs": [
    {
     "name": "stdout",
     "output_type": "stream",
     "text": [
      "Accuracy: 0.9528619528619529\n",
      "Number of misclassified images = 14 out of 297\n"
     ]
    }
   ],
   "source": [
    "# Constructs a list of misclassified images given a list of test images and their labels\n",
    "# This will throw an AssertionError if labels are not standardized (one-hot encoded)\n",
    "\n",
    "def get_misclassified_images(test_images):\n",
    "    # Track misclassified images by placing them into a list\n",
    "    misclassified_images_labels = []\n",
    "\n",
    "    # Iterate through all the test images\n",
    "    # Classify each image and compare to the true label\n",
    "    for image in test_images:\n",
    "\n",
    "        # Get true data\n",
    "        im = image[0]\n",
    "        true_label = image[1]\n",
    "        assert(len(true_label) == 3), \"The true_label is not the expected length (3).\"\n",
    "\n",
    "        # Get predicted label from your classifier\n",
    "        predicted_label = estimate_label(im)\n",
    "        assert(len(predicted_label) == 3), \"The predicted_label is not the expected length (3).\"\n",
    "\n",
    "        # Compare true and predicted labels \n",
    "        if(predicted_label != true_label):\n",
    "            # If these labels are not equal, the image has been misclassified\n",
    "            misclassified_images_labels.append((im, predicted_label, true_label))\n",
    "            \n",
    "    # Return the list of misclassified [image, predicted_label, true_label] values\n",
    "    return misclassified_images_labels\n",
    "\n",
    "\n",
    "# Find all misclassified images in a given test set\n",
    "MISCLASSIFIED = get_misclassified_images(STANDARDIZED_TEST_LIST)\n",
    "\n",
    "# Accuracy calculations\n",
    "total = len(STANDARDIZED_TEST_LIST)\n",
    "num_correct = total - len(MISCLASSIFIED)\n",
    "accuracy = num_correct/total\n",
    "\n",
    "print('Accuracy: ' + str(accuracy))\n",
    "print(\"Number of misclassified images = \" + str(len(MISCLASSIFIED)) +' out of '+ str(total))\n"
   ]
  },
  {
   "cell_type": "markdown",
   "metadata": {},
   "source": [
    "---\n",
    "<a id='task9'></a>\n",
    "### Visualize the misclassified images\n",
    "\n",
    "Visualize some of the images you classified wrong (in the `MISCLASSIFIED` list) and note any qualities that make them difficult to classify. This will help you identify any weaknesses in your classification algorithm."
   ]
  },
  {
   "cell_type": "code",
   "execution_count": 105,
   "metadata": {},
   "outputs": [
    {
     "data": {
      "image/png": "[encoded data removed]",
      "text/plain": [
       "<matplotlib.figure.Figure at 0x7fb96917ff60>"
      ]
     },
     "metadata": {
      "needs_background": "light"
     },
     "output_type": "display_data"
    },
    {
     "data": {
      "image/png": "[encoded data removed]",
      "text/plain": [
       "<matplotlib.figure.Figure at 0x7fb9691b7cc0>"
      ]
     },
     "metadata": {
      "needs_background": "light"
     },
     "output_type": "display_data"
    },
    {
     "data": {
      "image/png": "[encoded data removed]",
      "text/plain": [
       "<matplotlib.figure.Figure at 0x7fb9689991d0>"
      ]
     },
     "metadata": {
      "needs_background": "light"
     },
     "output_type": "display_data"
    },
    {
     "data": {
      "image/png": "[encoded data removed]",
      "text/plain": [
       "<matplotlib.figure.Figure at 0x7fb96823d0f0>"
      ]
     },
     "metadata": {
      "needs_background": "light"
     },
     "output_type": "display_data"
    },
    {
     "data": {
      "image/png": "[encoded data removed]",
      "text/plain": [
       "<matplotlib.figure.Figure at 0x7fb968908860>"
      ]
     },
     "metadata": {
      "needs_background": "light"
     },
     "output_type": "display_data"
    },
    {
     "data": {
      "image/png": "[encoded data removed]",
      "text/plain": [
       "<matplotlib.figure.Figure at 0x7fb968cce2b0>"
      ]
     },
     "metadata": {
      "needs_background": "light"
     },
     "output_type": "display_data"
    },
    {
     "data": {
      "image/png": "[encoded data removed]",
      "text/plain": [
       "<matplotlib.figure.Figure at 0x7fb96875dfd0>"
      ]
     },
     "metadata": {
      "needs_background": "light"
     },
     "output_type": "display_data"
    },
    {
     "data": {
      "image/png": "[encoded data removed]",
      "text/plain": [
       "<matplotlib.figure.Figure at 0x7fb968df1240>"
      ]
     },
     "metadata": {
      "needs_background": "light"
     },
     "output_type": "display_data"
    },
    {
     "data": {
      "image/png": "[encoded data removed]",
      "text/plain": [
       "<matplotlib.figure.Figure at 0x7fb968d70470>"
      ]
     },
     "metadata": {
      "needs_background": "light"
     },
     "output_type": "display_data"
    },
    {
     "data": {
      "image/png": "[encoded data removed]",
      "text/plain": [
       "<matplotlib.figure.Figure at 0x7fb96900dda0>"
      ]
     },
     "metadata": {
      "needs_background": "light"
     },
     "output_type": "display_data"
    },
    {
     "data": {
      "image/png": "[encoded data removed]",
      "text/plain": [
       "<matplotlib.figure.Figure at 0x7fb9691af9e8>"
      ]
     },
     "metadata": {
      "needs_background": "light"
     },
     "output_type": "display_data"
    },
    {
     "data": {
      "image/png": "[encoded data removed]",
      "text/plain": [
       "<matplotlib.figure.Figure at 0x7fb968f32550>"
      ]
     },
     "metadata": {
      "needs_background": "light"
     },
     "output_type": "display_data"
    },
    {
     "data": {
      "image/png": "[encoded data removed]",
      "text/plain": [
       "<matplotlib.figure.Figure at 0x7fb968f7d160>"
      ]
     },
     "metadata": {
      "needs_background": "light"
     },
     "output_type": "display_data"
    },
    {
     "data": {
      "image/png": "[encoded data removed]",
      "text/plain": [
       "<matplotlib.figure.Figure at 0x7fb968b91cf8>"
      ]
     },
     "metadata": {
      "needs_background": "light"
     },
     "output_type": "display_data"
    }
   ],
   "source": [
    "# Visualize misclassified example(s)\n",
    "## TODO: Display an image in the `MISCLASSIFIED` list \n",
    "## TODO: Print out its predicted label - to see what the image *was* incorrectly classified as\n",
    "\n",
    "for entry in MISCLASSIFIED:\n",
    "\n",
    "    img             = entry[0]\n",
    "    true_label      = entry[2]\n",
    "    predicted_label = entry[1]\n",
    "\n",
    "    label = str(true_label)+' \\nPred.: '+str(predicted_label) \n",
    "\n",
    "    show_images(img, label, False)\n",
    "\n",
    "\n",
    "    \n"
   ]
  },
  {
   "cell_type": "markdown",
   "metadata": {},
   "source": [
    "---\n",
    "<a id='question2'></a>\n",
    "## (Question 2): After visualizing these misclassifications, what weaknesses do you think your classification algorithm has? Please note at least two."
   ]
  },
  {
   "cell_type": "markdown",
   "metadata": {},
   "source": [
    "**Answer:** Write your answer in this cell.\n",
    "\n",
    "**Selected** weaknesses of the classifier:\n",
    "* Overexposed images with general high brightness and weak colors\n",
    "* Certain green images when the green is almos blueish or other colors are present at the same time"
   ]
  },
  {
   "cell_type": "markdown",
   "metadata": {},
   "source": [
    "## Test if you classify any red lights as green\n",
    "\n",
    "**To pass this project, you must not classify any red lights as green!** Classifying red lights as green would cause a car to drive through a red traffic light, so this red-as-green error is very dangerous in the real world. \n",
    "\n",
    "The code below lets you test to see if you've misclassified any red lights as green in the test set. **This test assumes that `MISCLASSIFIED` is a list of tuples with the order: [misclassified_image, predicted_label, true_label].**\n",
    "\n",
    "Note: this is not an all encompassing test, but its a good indicator that, if you pass, you are on the right track! This iterates through your list of misclassified examples and checks to see if any red traffic lights have been mistakenly labelled [0, 1, 0] (green)."
   ]
  },
  {
   "cell_type": "code",
   "execution_count": 79,
   "metadata": {},
   "outputs": [
    {
     "data": {
      "text/markdown": [
       "**<span style=\"color: green;\">TEST PASSED</span>**"
      ],
      "text/plain": [
       "<IPython.core.display.Markdown object>"
      ]
     },
     "metadata": {},
     "output_type": "display_data"
    }
   ],
   "source": [
    "# Importing the tests\n",
    "import test_functions\n",
    "tests = test_functions.Tests()\n",
    "\n",
    "if(len(MISCLASSIFIED) > 0):\n",
    "    # Test code for one_hot_encode function\n",
    "    tests.test_red_as_green(MISCLASSIFIED)\n",
    "else:\n",
    "    print(\"MISCLASSIFIED may not have been populated with images.\")\n"
   ]
  },
  {
   "cell_type": "markdown",
   "metadata": {},
   "source": [
    "# 5. Improve your algorithm!\n",
    "\n",
    "**Submit your project after you have completed all implementations, answered all questions, AND when you've met the two criteria:**\n",
    "1. Greater than 90% accuracy classification\n",
    "2. No red lights classified as green\n",
    "\n",
    "If you did not meet these requirements (which is common on the first attempt!), revisit your algorithm and tweak it to improve light recognition -- this could mean changing the brightness feature, performing some background subtraction, or adding another feature!\n",
    "\n",
    "---"
   ]
  },
  {
   "cell_type": "markdown",
   "metadata": {
    "collapsed": true
   },
   "source": [
    "### Going Further (Optional Challenges)\n",
    "\n",
    "If you found this challenge easy, I suggest you go above and beyond! Here are a couple **optional** (meaning you do not need to implement these to submit and pass the project) suggestions:\n",
    "* (Optional) Aim for >95% classification accuracy.\n",
    "* (Optional) Some lights are in the shape of arrows; further classify the lights as round or arrow-shaped.\n",
    "* (Optional) Add another feature and aim for as close to 100% accuracy as you can get!"
   ]
  },
  {
   "cell_type": "code",
   "execution_count": null,
   "metadata": {},
   "outputs": [],
   "source": []
  },
  {
   "cell_type": "code",
   "execution_count": null,
   "metadata": {},
   "outputs": [],
   "source": []
  }
 ],
 "metadata": {
  "anaconda-cloud": {},
  "kernelspec": {
   "display_name": "Python 3",
   "language": "python",
   "name": "python3"
  },
  "language_info": {
   "codemirror_mode": {
    "name": "ipython",
    "version": 3
   },
   "file_extension": ".py",
   "mimetype": "text/x-python",
   "name": "python",
   "nbconvert_exporter": "python",
   "pygments_lexer": "ipython3",
   "version": "3.6.3"
  }
 },
 "nbformat": 4,
 "nbformat_minor": 2
}
